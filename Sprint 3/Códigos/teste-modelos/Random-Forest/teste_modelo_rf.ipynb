{
 "cells": [
  {
   "cell_type": "markdown",
   "id": "270e5903",
   "metadata": {},
   "source": [
    "### 1. Importações"
   ]
  },
  {
   "cell_type": "code",
   "execution_count": null,
   "id": "c63ac642",
   "metadata": {},
   "outputs": [
    {
     "ename": "",
     "evalue": "",
     "output_type": "error",
     "traceback": [
      "\u001b[1;31mRunning cells with 'Python 3.13.3' requires the ipykernel package.\n",
      "\u001b[1;31m<a href='command:jupyter.createPythonEnvAndSelectController'>Create a Python Environment</a> with the required packages."
     ]
    }
   ],
   "source": [
    "import pandas as pd\n",
    "import numpy as np\n",
    "from sklearn.ensemble import RandomForestRegressor\n",
    "from sklearn.model_selection import train_test_split, cross_val_score\n",
    "from sklearn.preprocessing import StandardScaler\n",
    "from sklearn.pipeline import Pipeline\n",
    "from sklearn.compose import ColumnTransformer\n",
    "from sklearn.feature_selection import SelectKBest, f_regression, RFE\n",
    "from sklearn.metrics import mean_squared_error, mean_absolute_error, r2_score\n",
    "from sklearn.linear_model import LinearRegression\n",
    "import matplotlib.pyplot as plt\n",
    "from src.helpers.modelo_analise import ModelAnalisys"
   ]
  },
  {
   "cell_type": "markdown",
   "id": "4468c308",
   "metadata": {},
   "source": [
    "### 2. Leitura do Dataframe"
   ]
  },
  {
   "cell_type": "code",
   "execution_count": null,
   "id": "2e25a9c5",
   "metadata": {},
   "outputs": [],
   "source": [
    "df = pd.read_csv('../../../../data/pre-processado/por-municipio/completo/dados-manaus-preprocessado.csv') "
   ]
  },
  {
   "cell_type": "code",
   "execution_count": null,
   "id": "a9fe795c",
   "metadata": {},
   "outputs": [],
   "source": [
    "df = df[df['ano']>=2000]\n",
    "df = df.drop(columns=['municipio','uf'])\n",
    "X = df.drop(columns='vazao')\n",
    "y = df['vazao'] # Separa o target"
   ]
  },
  {
   "cell_type": "markdown",
   "id": "a7e30e43",
   "metadata": {},
   "source": [
    "### 3. Código"
   ]
  },
  {
   "cell_type": "code",
   "execution_count": null,
   "id": "c038c772",
   "metadata": {},
   "outputs": [],
   "source": [
    "scaler = StandardScaler()\n",
    "cv_folds = 3\n",
    "parametros = [\n",
    "    {\"n_estimators\": 50},\n",
    "    {\"n_estimators\": 100},\n",
    "]\n",
    "\n",
    "metodos_selecao = {\n",
    "    \"SelectKBest\": SelectKBest(score_func=f_regression, k=5),\n",
    "    \"RFE\": RFE(estimator=LinearRegression(), n_features_to_select=5)\n",
    "}\n",
    "\n",
    "resultados = []\n",
    "features = []\n",
    "\n",
    "for params in parametros:\n",
    "    for nome_selecao, metodo_selecao in metodos_selecao.items():\n",
    "        X_train, X_test, y_train, y_test = train_test_split(X, y, test_size=0.3, random_state=42)\n",
    "\n",
    "        pipeline = Pipeline([\n",
    "            (\"scale\", scaler),\n",
    "            (\"selecao\", metodo_selecao),\n",
    "            (\"modelo\", RandomForestRegressor(**params, random_state=42))\n",
    "        ])\n",
    "\n",
    "        pipeline.fit(X_train, y_train)\n",
    "\n",
    "        y_pred_test = pipeline.predict(X_test)\n",
    "        y_pred_train = pipeline.predict(X_train)\n",
    "\n",
    "        mse_test = mean_squared_error(y_test, y_pred_test)\n",
    "        mae_test = mean_absolute_error(y_test, y_pred_test)\n",
    "        r2_test = r2_score(y_test, y_pred_test)\n",
    "\n",
    "        mse_train = mean_squared_error(y_train, y_pred_train)\n",
    "        mae_train = mean_absolute_error(y_train, y_pred_train)\n",
    "        r2_train = r2_score(y_train, y_pred_train)\n",
    "\n",
    "        r2_cv = cross_val_score(pipeline, X_train, y_train, cv=cv_folds, scoring=\"r2\").mean()\n",
    "\n",
    "        resultados.append({\n",
    "            \"algoritmo\": \"RandomForestRegressor\",\n",
    "            \"n_estimators\": params[\"n_estimators\"],\n",
    "            \"cv_folds\": cv_folds,\n",
    "            \"variaveis\": nome_selecao,\n",
    "            \"normalizacao\": scaler.__class__.__name__,\n",
    "            \"mse_treino\": mse_train,\n",
    "            \"mae_treino\": mae_train,\n",
    "            \"r2_treino\": r2_train,\n",
    "            \"mse_teste\": mse_test,\n",
    "            \"mae_teste\": mae_test,\n",
    "            \"r2_teste\": r2_test,\n",
    "            \"r2_cv_medio\": r2_cv\n",
    "        })\n",
    "        features.append([f\"n_{params['n_estimators']}_{nome_selecao}\", ModelAnalisys.get_features_pipe(pipeline, X)])\n",
    "\n",
    "\n",
    "df_resultados = pd.DataFrame(resultados)\n",
    "df_resultados.to_csv(\"resultados_randomforest.csv\", index=False)"
   ]
  },
  {
   "cell_type": "markdown",
   "id": "507b38d7",
   "metadata": {},
   "source": [
    "### 4. Exibição dos Resultados"
   ]
  },
  {
   "cell_type": "code",
   "execution_count": null,
   "id": "95efb150",
   "metadata": {},
   "outputs": [],
   "source": [
    "df_resultados"
   ]
  },
  {
   "cell_type": "code",
   "execution_count": null,
   "id": "2e97ef2f",
   "metadata": {},
   "outputs": [],
   "source": [
    "for name, method in features:\n",
    "  plt.figure(figsize=(10, 6))\n",
    "  method.plot(kind=\"barh\", color=\"skyblue\")\n",
    "  plt.title(name)\n",
    "  plt.xlabel(\"Importance\")\n",
    "  plt.ylabel(\"Features\")\n",
    "  plt.tight_layout()\n",
    "  plt.show()"
   ]
  }
 ],
 "metadata": {
  "kernelspec": {
   "display_name": "Python 3",
   "language": "python",
   "name": "python3"
  },
  "language_info": {
   "codemirror_mode": {
    "name": "ipython",
    "version": 3
   },
   "file_extension": ".py",
   "mimetype": "text/x-python",
   "name": "python",
   "nbconvert_exporter": "python",
   "pygments_lexer": "ipython3",
   "version": "3.13.3"
  }
 },
 "nbformat": 4,
 "nbformat_minor": 5
}
