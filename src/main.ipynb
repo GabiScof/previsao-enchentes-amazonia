{
 "cells": [
  {
   "cell_type": "code",
   "execution_count": 14,
   "id": "d95f0abf",
   "metadata": {},
   "outputs": [],
   "source": [
    "import pandas as pd"
   ]
  },
  {
   "cell_type": "markdown",
   "id": "8f6059b5",
   "metadata": {},
   "source": [
    "1- Importação do Dataframe de Manaus"
   ]
  },
  {
   "cell_type": "code",
   "execution_count": 15,
   "id": "643014bd",
   "metadata": {},
   "outputs": [],
   "source": [
    "df = pd.read_csv('../data/pre-processado/completo/dados-manaus-preprocessado.csv')"
   ]
  },
  {
   "cell_type": "code",
   "execution_count": 16,
   "id": "e3e051a8",
   "metadata": {},
   "outputs": [
    {
     "name": "stdout",
     "output_type": "stream",
     "text": [
      "INICIO: 12022 linhas\n"
     ]
    }
   ],
   "source": [
    "print(f\"INICIO: {len(df)} linhas\")"
   ]
  },
  {
   "cell_type": "markdown",
   "id": "9940afd3",
   "metadata": {},
   "source": [
    "2- Pré-processamento"
   ]
  },
  {
   "cell_type": "markdown",
   "id": "d809f8c7",
   "metadata": {},
   "source": [
    "2.1 - Limitação do dataframe para acima do ano 2000"
   ]
  },
  {
   "cell_type": "code",
   "execution_count": 17,
   "id": "a0af9f8d",
   "metadata": {},
   "outputs": [],
   "source": [
    "df['ano'] = df['ano'].astype(int)\n",
    "df = df[df['ano'] >= 2000]\n"
   ]
  },
  {
   "cell_type": "markdown",
   "id": "262e4432",
   "metadata": {},
   "source": [
    "2.2- Remoção de outliers"
   ]
  },
  {
   "cell_type": "code",
   "execution_count": 18,
   "id": "352cb9b2",
   "metadata": {},
   "outputs": [
    {
     "name": "stdout",
     "output_type": "stream",
     "text": [
      "Existem 8735 linhas antes de remover outliers.\n",
      "Existem 6722 linhas depois de remover outliers.\n"
     ]
    }
   ],
   "source": [
    "print(f\"Existem {len(df)} linhas antes de remover outliers.\")\n",
    "\n",
    "colunas_numericas = df.select_dtypes(include='number').columns\n",
    "\n",
    "for col in colunas_numericas:\n",
    "    Q1 = df[col].quantile(0.25)\n",
    "    Q3 = df[col].quantile(0.75)\n",
    "    IQR = Q3 - Q1\n",
    "    limite_inferior = Q1 - 1.5 * IQR\n",
    "    limite_superior = Q3 + 1.5 * IQR\n",
    "    df = df[(df[col] >= limite_inferior) & (df[col] <= limite_superior)]\n",
    "\n",
    "print(f\"Existem {len(df)} linhas depois de remover outliers.\")\n"
   ]
  },
  {
   "cell_type": "markdown",
   "id": "d0957dab",
   "metadata": {},
   "source": [
    "2.3- Normalização dos Dados"
   ]
  },
  {
   "cell_type": "markdown",
   "id": "601fbda9",
   "metadata": {},
   "source": []
  },
  {
   "cell_type": "markdown",
   "id": "1bc9a085",
   "metadata": {},
   "source": [
    "2.4 - Criação de variáveis derivadas"
   ]
  },
  {
   "cell_type": "code",
   "execution_count": 19,
   "id": "c0b827f5",
   "metadata": {},
   "outputs": [],
   "source": [
    "df[\"chuva_3d\"] = df[\"chuva_final\"].rolling(window=3).sum()\n",
    "df[\"chuva_5d\"] = df[\"chuva_final\"].rolling(window=5).sum()\n",
    "df[\"chuva_7d\"] = df[\"chuva_final\"].rolling(window=7).sum()"
   ]
  },
  {
   "cell_type": "markdown",
   "id": "5dd6c8ad",
   "metadata": {},
   "source": [
    "3- Modelo"
   ]
  },
  {
   "cell_type": "markdown",
   "id": "e30a8886",
   "metadata": {},
   "source": []
  },
  {
   "cell_type": "markdown",
   "id": "892a22d8",
   "metadata": {},
   "source": [
    "PRINT FINAL"
   ]
  },
  {
   "cell_type": "code",
   "execution_count": 20,
   "id": "bc58118e",
   "metadata": {},
   "outputs": [
    {
     "name": "stdout",
     "output_type": "stream",
     "text": [
      "FIM: 6722 linhas\n"
     ]
    }
   ],
   "source": [
    "# POR FAVOR - DEIXAR ESSE BLOCO COMO O ULTIMO BLOCO DO CÓDIGO\n",
    "print(f\"FIM: {len(df)} linhas\")"
   ]
  }
 ],
 "metadata": {
  "kernelspec": {
   "display_name": "Python 3",
   "language": "python",
   "name": "python3"
  },
  "language_info": {
   "codemirror_mode": {
    "name": "ipython",
    "version": 3
   },
   "file_extension": ".py",
   "mimetype": "text/x-python",
   "name": "python",
   "nbconvert_exporter": "python",
   "pygments_lexer": "ipython3",
   "version": "3.11.5"
  }
 },
 "nbformat": 4,
 "nbformat_minor": 5
}
