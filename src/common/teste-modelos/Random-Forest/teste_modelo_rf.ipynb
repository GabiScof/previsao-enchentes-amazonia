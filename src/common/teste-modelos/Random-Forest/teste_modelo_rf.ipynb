{
 "cells": [
  {
   "cell_type": "markdown",
   "id": "270e5903",
   "metadata": {},
   "source": [
    "### 1. Importações"
   ]
  },
  {
   "cell_type": "code",
   "execution_count": 19,
   "id": "c63ac642",
   "metadata": {},
   "outputs": [],
   "source": [
    "import pandas as pd\n",
    "import numpy as np\n",
    "from sklearn.ensemble import RandomForestRegressor\n",
    "from sklearn.model_selection import train_test_split, cross_val_score\n",
    "from sklearn.preprocessing import StandardScaler\n",
    "from sklearn.pipeline import Pipeline\n",
    "from sklearn.compose import ColumnTransformer\n",
    "from sklearn.feature_selection import SelectKBest, f_regression, RFE\n",
    "from sklearn.metrics import mean_squared_error, mean_absolute_error, r2_score\n",
    "from sklearn.linear_model import LinearRegression"
   ]
  },
  {
   "cell_type": "markdown",
   "id": "4468c308",
   "metadata": {},
   "source": [
    "### 2. Leitura do Dataframe"
   ]
  },
  {
   "cell_type": "code",
   "execution_count": 20,
   "id": "2e25a9c5",
   "metadata": {},
   "outputs": [],
   "source": [
    "df = pd.read_csv('../../../../data/pre-processado/por-municipio/completo/dados-manaus-preprocessado.csv') "
   ]
  },
  {
   "cell_type": "code",
   "execution_count": 21,
   "id": "4fb1fd71",
   "metadata": {},
   "outputs": [],
   "source": [
    "df = df[df['ano']>=2000]\n",
    "df = df.drop(columns=['municipio','uf'])\n",
    "X = df.drop(columns='vazao')\n",
    "y = df['vazao'] # Separa o target"
   ]
  },
  {
   "cell_type": "markdown",
   "id": "a7e30e43",
   "metadata": {},
   "source": [
    "### 3. Código"
   ]
  },
  {
   "cell_type": "code",
   "execution_count": 22,
   "id": "c038c772",
   "metadata": {},
   "outputs": [],
   "source": [
    "scaler = StandardScaler()\n",
    "cv_folds = 3\n",
    "parametros = [\n",
    "    {\"n_estimators\": 50},\n",
    "    {\"n_estimators\": 100},\n",
    "]\n",
    "\n",
    "metodos_selecao = {\n",
    "    \"SelectKBest\": SelectKBest(score_func=f_regression, k=5),\n",
    "    \"RFE\": RFE(estimator=LinearRegression(), n_features_to_select=5)\n",
    "}\n",
    "\n",
    "resultados = []\n",
    "\n",
    "for params in parametros:\n",
    "    for nome_selecao, metodo_selecao in metodos_selecao.items():\n",
    "        X_train, X_test, y_train, y_test = train_test_split(X, y, test_size=0.3, random_state=42)\n",
    "\n",
    "        pipeline = Pipeline([\n",
    "            (\"scale\", scaler),\n",
    "            (\"selecao\", metodo_selecao),\n",
    "            (\"modelo\", RandomForestRegressor(**params, random_state=42))\n",
    "        ])\n",
    "\n",
    "        pipeline.fit(X_train, y_train)\n",
    "\n",
    "        y_pred_test = pipeline.predict(X_test)\n",
    "        y_pred_train = pipeline.predict(X_train)\n",
    "\n",
    "        mse_test = mean_squared_error(y_test, y_pred_test)\n",
    "        mae_test = mean_absolute_error(y_test, y_pred_test)\n",
    "        r2_test = r2_score(y_test, y_pred_test)\n",
    "\n",
    "        mse_train = mean_squared_error(y_train, y_pred_train)\n",
    "        mae_train = mean_absolute_error(y_train, y_pred_train)\n",
    "        r2_train = r2_score(y_train, y_pred_train)\n",
    "\n",
    "        r2_cv = cross_val_score(pipeline, X_train, y_train, cv=cv_folds, scoring=\"r2\").mean()\n",
    "\n",
    "        resultados.append({\n",
    "            \"algoritmo\": \"RandomForestRegressor\",\n",
    "            \"n_estimators\": params[\"n_estimators\"],\n",
    "            \"cv_folds\": cv_folds,\n",
    "            \"variaveis\": nome_selecao,\n",
    "            \"normalizacao\": scaler.__class__.__name__,\n",
    "            \"mse_treino\": mse_train,\n",
    "            \"mae_treino\": mae_train,\n",
    "            \"r2_treino\": r2_train,\n",
    "            \"mse_teste\": mse_test,\n",
    "            \"mae_teste\": mae_test,\n",
    "            \"r2_teste\": r2_test,\n",
    "            \"r2_cv_medio\": r2_cv\n",
    "        })\n",
    "\n",
    "df_resultados = pd.DataFrame(resultados)\n",
    "df_resultados.to_csv(\"resultados_randomforest.csv\", index=False)"
   ]
  },
  {
   "cell_type": "markdown",
   "id": "507b38d7",
   "metadata": {},
   "source": [
    "### 4. Exibição dos Resultados"
   ]
  },
  {
   "cell_type": "code",
   "execution_count": 23,
   "id": "95efb150",
   "metadata": {},
   "outputs": [
    {
     "data": {
      "application/vnd.microsoft.datawrangler.viewer.v0+json": {
       "columns": [
        {
         "name": "index",
         "rawType": "int64",
         "type": "integer"
        },
        {
         "name": "algoritmo",
         "rawType": "object",
         "type": "string"
        },
        {
         "name": "n_estimators",
         "rawType": "int64",
         "type": "integer"
        },
        {
         "name": "cv_folds",
         "rawType": "int64",
         "type": "integer"
        },
        {
         "name": "variaveis",
         "rawType": "object",
         "type": "string"
        },
        {
         "name": "normalizacao",
         "rawType": "object",
         "type": "string"
        },
        {
         "name": "mse_treino",
         "rawType": "float64",
         "type": "float"
        },
        {
         "name": "mae_treino",
         "rawType": "float64",
         "type": "float"
        },
        {
         "name": "r2_treino",
         "rawType": "float64",
         "type": "float"
        },
        {
         "name": "mse_teste",
         "rawType": "float64",
         "type": "float"
        },
        {
         "name": "mae_teste",
         "rawType": "float64",
         "type": "float"
        },
        {
         "name": "r2_teste",
         "rawType": "float64",
         "type": "float"
        },
        {
         "name": "r2_cv_medio",
         "rawType": "float64",
         "type": "float"
        }
       ],
       "ref": "eaeb1ad2-bfd3-4208-a363-980a95aa77dc",
       "rows": [
        [
         "0",
         "RandomForestRegressor",
         "50",
         "3",
         "SelectKBest",
         "StandardScaler",
         "47588607.98062724",
         "5202.413576820304",
         "0.9715614503805553",
         "300630550.3022225",
         "12734.740424594267",
         "0.8152848470939045",
         "0.8198685111491298"
        ],
        [
         "1",
         "RandomForestRegressor",
         "50",
         "3",
         "RFE",
         "StandardScaler",
         "354205488.8328024",
         "13405.210484241978",
         "0.7883297957832269",
         "1202996757.5976512",
         "27894.87334626595",
         "0.2608478087080677",
         "0.2889005115921118"
        ],
        [
         "2",
         "RandomForestRegressor",
         "100",
         "3",
         "SelectKBest",
         "StandardScaler",
         "45982921.33215204",
         "5162.425245744463",
         "0.9725209951406065",
         "300715559.506567",
         "12743.637951107263",
         "0.8152326152493261",
         "0.8206876683795251"
        ],
        [
         "3",
         "RandomForestRegressor",
         "100",
         "3",
         "RFE",
         "StandardScaler",
         "348600972.28835785",
         "13321.098522863364",
         "0.7916790074665582",
         "1192107972.0729768",
         "27777.242694949273",
         "0.2675381589772934",
         "0.2952400681784067"
        ]
       ],
       "shape": {
        "columns": 12,
        "rows": 4
       }
      },
      "text/html": [
       "<div>\n",
       "<style scoped>\n",
       "    .dataframe tbody tr th:only-of-type {\n",
       "        vertical-align: middle;\n",
       "    }\n",
       "\n",
       "    .dataframe tbody tr th {\n",
       "        vertical-align: top;\n",
       "    }\n",
       "\n",
       "    .dataframe thead th {\n",
       "        text-align: right;\n",
       "    }\n",
       "</style>\n",
       "<table border=\"1\" class=\"dataframe\">\n",
       "  <thead>\n",
       "    <tr style=\"text-align: right;\">\n",
       "      <th></th>\n",
       "      <th>algoritmo</th>\n",
       "      <th>n_estimators</th>\n",
       "      <th>cv_folds</th>\n",
       "      <th>variaveis</th>\n",
       "      <th>normalizacao</th>\n",
       "      <th>mse_treino</th>\n",
       "      <th>mae_treino</th>\n",
       "      <th>r2_treino</th>\n",
       "      <th>mse_teste</th>\n",
       "      <th>mae_teste</th>\n",
       "      <th>r2_teste</th>\n",
       "      <th>r2_cv_medio</th>\n",
       "    </tr>\n",
       "  </thead>\n",
       "  <tbody>\n",
       "    <tr>\n",
       "      <th>0</th>\n",
       "      <td>RandomForestRegressor</td>\n",
       "      <td>50</td>\n",
       "      <td>3</td>\n",
       "      <td>SelectKBest</td>\n",
       "      <td>StandardScaler</td>\n",
       "      <td>4.758861e+07</td>\n",
       "      <td>5202.413577</td>\n",
       "      <td>0.971561</td>\n",
       "      <td>3.006306e+08</td>\n",
       "      <td>12734.740425</td>\n",
       "      <td>0.815285</td>\n",
       "      <td>0.819869</td>\n",
       "    </tr>\n",
       "    <tr>\n",
       "      <th>1</th>\n",
       "      <td>RandomForestRegressor</td>\n",
       "      <td>50</td>\n",
       "      <td>3</td>\n",
       "      <td>RFE</td>\n",
       "      <td>StandardScaler</td>\n",
       "      <td>3.542055e+08</td>\n",
       "      <td>13405.210484</td>\n",
       "      <td>0.788330</td>\n",
       "      <td>1.202997e+09</td>\n",
       "      <td>27894.873346</td>\n",
       "      <td>0.260848</td>\n",
       "      <td>0.288901</td>\n",
       "    </tr>\n",
       "    <tr>\n",
       "      <th>2</th>\n",
       "      <td>RandomForestRegressor</td>\n",
       "      <td>100</td>\n",
       "      <td>3</td>\n",
       "      <td>SelectKBest</td>\n",
       "      <td>StandardScaler</td>\n",
       "      <td>4.598292e+07</td>\n",
       "      <td>5162.425246</td>\n",
       "      <td>0.972521</td>\n",
       "      <td>3.007156e+08</td>\n",
       "      <td>12743.637951</td>\n",
       "      <td>0.815233</td>\n",
       "      <td>0.820688</td>\n",
       "    </tr>\n",
       "    <tr>\n",
       "      <th>3</th>\n",
       "      <td>RandomForestRegressor</td>\n",
       "      <td>100</td>\n",
       "      <td>3</td>\n",
       "      <td>RFE</td>\n",
       "      <td>StandardScaler</td>\n",
       "      <td>3.486010e+08</td>\n",
       "      <td>13321.098523</td>\n",
       "      <td>0.791679</td>\n",
       "      <td>1.192108e+09</td>\n",
       "      <td>27777.242695</td>\n",
       "      <td>0.267538</td>\n",
       "      <td>0.295240</td>\n",
       "    </tr>\n",
       "  </tbody>\n",
       "</table>\n",
       "</div>"
      ],
      "text/plain": [
       "               algoritmo  n_estimators  cv_folds    variaveis    normalizacao  \\\n",
       "0  RandomForestRegressor            50         3  SelectKBest  StandardScaler   \n",
       "1  RandomForestRegressor            50         3          RFE  StandardScaler   \n",
       "2  RandomForestRegressor           100         3  SelectKBest  StandardScaler   \n",
       "3  RandomForestRegressor           100         3          RFE  StandardScaler   \n",
       "\n",
       "     mse_treino    mae_treino  r2_treino     mse_teste     mae_teste  \\\n",
       "0  4.758861e+07   5202.413577   0.971561  3.006306e+08  12734.740425   \n",
       "1  3.542055e+08  13405.210484   0.788330  1.202997e+09  27894.873346   \n",
       "2  4.598292e+07   5162.425246   0.972521  3.007156e+08  12743.637951   \n",
       "3  3.486010e+08  13321.098523   0.791679  1.192108e+09  27777.242695   \n",
       "\n",
       "   r2_teste  r2_cv_medio  \n",
       "0  0.815285     0.819869  \n",
       "1  0.260848     0.288901  \n",
       "2  0.815233     0.820688  \n",
       "3  0.267538     0.295240  "
      ]
     },
     "execution_count": 23,
     "metadata": {},
     "output_type": "execute_result"
    }
   ],
   "source": [
    "df_resultados"
   ]
  }
 ],
 "metadata": {
  "kernelspec": {
   "display_name": "Python 3",
   "language": "python",
   "name": "python3"
  },
  "language_info": {
   "codemirror_mode": {
    "name": "ipython",
    "version": 3
   },
   "file_extension": ".py",
   "mimetype": "text/x-python",
   "name": "python",
   "nbconvert_exporter": "python",
   "pygments_lexer": "ipython3",
   "version": "3.11.5"
  }
 },
 "nbformat": 4,
 "nbformat_minor": 5
}
