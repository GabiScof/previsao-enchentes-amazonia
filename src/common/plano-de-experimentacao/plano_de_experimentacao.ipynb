{
 "cells": [
  {
   "cell_type": "markdown",
   "id": "4effd671",
   "metadata": {},
   "source": [
    "## Importações"
   ]
  },
  {
   "cell_type": "code",
   "execution_count": 137,
   "id": "8f03b975",
   "metadata": {},
   "outputs": [],
   "source": [
    "import os\n",
    "from itertools import product\n",
    "\n",
    "import numpy as np\n",
    "import pandas as pd\n",
    "from scipy.stats import zscore\n",
    "\n",
    "from sklearn.datasets import make_regression\n",
    "from sklearn.compose import ColumnTransformer\n",
    "from sklearn.pipeline import Pipeline\n",
    "from sklearn.preprocessing import StandardScaler, MinMaxScaler, RobustScaler, OneHotEncoder\n",
    "from sklearn.model_selection import train_test_split\n",
    "from sklearn.metrics import mean_squared_error, mean_absolute_error, r2_score, confusion_matrix\n",
    "from sklearn.naive_bayes import GaussianNB\n",
    "from sklearn.ensemble import RandomForestRegressor\n",
    "from xgboost import XGBRegressor"
   ]
  },
  {
   "cell_type": "code",
   "execution_count": 138,
   "id": "73eabb20",
   "metadata": {},
   "outputs": [
    {
     "name": "stdout",
     "output_type": "stream",
     "text": [
      "Requirement already satisfied: XlsxWriter in c:\\users\\gabri\\appdata\\local\\programs\\python\\python311\\lib\\site-packages (3.2.3)\n",
      "Note: you may need to restart the kernel to use updated packages.\n"
     ]
    },
    {
     "name": "stderr",
     "output_type": "stream",
     "text": [
      "\n",
      "[notice] A new release of pip is available: 23.2.1 -> 25.1.1\n",
      "[notice] To update, run: python.exe -m pip install --upgrade pip\n"
     ]
    }
   ],
   "source": [
    "%pip install XlsxWriter"
   ]
  },
  {
   "cell_type": "markdown",
   "id": "3a6c1cd2",
   "metadata": {},
   "source": [
    "## Plano de Experimentação"
   ]
  },
  {
   "cell_type": "markdown",
   "id": "db04a596",
   "metadata": {},
   "source": [
    "### 1. Carregar o dataset"
   ]
  },
  {
   "cell_type": "code",
   "execution_count": 139,
   "id": "2471a448",
   "metadata": {},
   "outputs": [],
   "source": [
    "df = pd.read_csv('../../../data/pre-processado/por-municipio/completo/dados-manaus-preprocessado.csv') \n",
    "\n",
    "# Retirando antes dos anos 2000 pois dados de clima ausentes, e inserir pela média prejudicou o modelo\n",
    "df = df[df['ano']>=2000]\n",
    "\n",
    "# Retirando pois variáveis não necessárias para o modelo, visto que são iguais para todas as linhas\n",
    "df = df.drop(columns=['municipio','uf'])"
   ]
  },
  {
   "cell_type": "markdown",
   "id": "c8e3caeb",
   "metadata": {},
   "source": [
    "### 2. Divisão do Dataset"
   ]
  },
  {
   "cell_type": "code",
   "execution_count": 140,
   "id": "3d0be21c",
   "metadata": {},
   "outputs": [],
   "source": [
    "X = df.drop(columns='vazao')\n",
    "y = df['vazao'] # Separa o target\n",
    "cat_cols = X.select_dtypes(include='object').columns.tolist()"
   ]
  },
  {
   "cell_type": "markdown",
   "id": "ca184554",
   "metadata": {},
   "source": [
    "### 3. Pré-processamentos"
   ]
  },
  {
   "cell_type": "code",
   "execution_count": 141,
   "id": "9524e1b5",
   "metadata": {},
   "outputs": [],
   "source": [
    "def remover_outliers(df, colunas, threshold=3):\n",
    "    z_scores = np.abs(zscore(df[colunas]))\n",
    "    mask = (z_scores < threshold).all(axis=1)\n",
    "    return df[mask]"
   ]
  },
  {
   "cell_type": "markdown",
   "id": "f355a462",
   "metadata": {},
   "source": [
    "### 4. Parâmetros de variação"
   ]
  },
  {
   "cell_type": "code",
   "execution_count": 142,
   "id": "6a85c415",
   "metadata": {},
   "outputs": [],
   "source": [
    "classificacoes = ['2 classificações', '3 classificações']\n",
    "validacao = ['k=3', 'k=10']\n",
    "criterios = ['squared_error']\n",
    "n_arvores = [50, 100]\n",
    "etas = [0.1, 0.3]\n",
    "depths = [3, 5]\n",
    "normalizadores = [StandardScaler(), MinMaxScaler(), RobustScaler()]\n",
    "usar_outliers = [True, False]\n"
   ]
  },
  {
   "cell_type": "markdown",
   "id": "1f8ca663",
   "metadata": {},
   "source": [
    "### 5. Cenários"
   ]
  },
  {
   "cell_type": "code",
   "execution_count": 143,
   "id": "198f1361",
   "metadata": {},
   "outputs": [],
   "source": [
    "cenarios_rfr = list(product(classificacoes, criterios, n_arvores, validacao, normalizadores, usar_outliers))\n",
    "cenarios_xgb = list(product(classificacoes, etas, depths, validacao, normalizadores, usar_outliers))"
   ]
  },
  {
   "cell_type": "markdown",
   "id": "fc177a4f",
   "metadata": {},
   "source": [
    "### 4. Random Forest Regressor"
   ]
  },
  {
   "cell_type": "code",
   "execution_count": null,
   "id": "1958565d",
   "metadata": {},
   "outputs": [],
   "source": [
    "resultados_rfr = []\n",
    "\n",
    "for i, (classe, criterio, n, val, norm, outlier_flag) in enumerate(cenarios_rfr):\n",
    "    X_temp = X.copy()\n",
    "    y_temp = y.copy()\n",
    "    num_cols = X_temp.select_dtypes(include=['int64', 'float64']).columns.tolist()\n",
    "\n",
    "    if outlier_flag:\n",
    "        df_completo = X_temp.copy()\n",
    "        df_completo[\"target\"] = y_temp\n",
    "        df_sem_outliers = remover_outliers(df_completo, num_cols)\n",
    "        X_temp = df_sem_outliers.drop(columns=\"target\")\n",
    "        y_temp = df_sem_outliers[\"target\"]\n",
    "\n",
    "    # Se o dataset ficou vazio após remoção de outliers, pula o cenário\n",
    "    if X_temp.shape[0] < 2:\n",
    "        continue\n",
    "\n",
    "    preprocessador = ColumnTransformer([\n",
    "        (\"scale\", norm, num_cols)\n",
    "    ], remainder='passthrough')\n",
    "\n",
    "    X_train, X_test, y_train, y_test = train_test_split(X_temp, y_temp, test_size=0.3, random_state=i+100)\n",
    "\n",
    "    modelo = Pipeline([\n",
    "        (\"prep\", preprocessador),\n",
    "        (\"clf\", RandomForestRegressor(n_estimators=n, criterion=criterio, random_state=42))\n",
    "    ])\n",
    "    modelo.fit(X_train, y_train)\n",
    "    y_pred = modelo.predict(X_test)\n",
    "\n",
    "    mse = mean_squared_error(y_test, y_pred)\n",
    "    mae = mean_absolute_error(y_test, y_pred)\n",
    "    r2 = r2_score(y_test, y_pred)\n",
    "\n",
    "    resultados_rfr.append([\n",
    "        i + 1,\n",
    "        'X' if classe == '2 classificações' else '',\n",
    "        'X' if classe == '3 classificações' else '',\n",
    "        criterio,\n",
    "        n,\n",
    "        'X' if val == 'k=3' else '',\n",
    "        'X' if val == 'k=10' else '',\n",
    "        'X' if outlier_flag else '',\n",
    "        type(norm).__name__.replace('Scaler', ''),\n",
    "        mse, mae, r2\n",
    "    ])"
   ]
  },
  {
   "cell_type": "markdown",
   "id": "87b598d1",
   "metadata": {},
   "source": [
    "### 5. XGBoost Regressor"
   ]
  },
  {
   "cell_type": "code",
   "execution_count": null,
   "id": "a85e628e",
   "metadata": {},
   "outputs": [],
   "source": [
    "resultados_xgbr = []\n",
    "\n",
    "for i, (classe, eta, depth, val, norm, outlier_flag) in enumerate(cenarios_xgb):\n",
    "    X_temp = X.copy()\n",
    "    y_temp = y.copy()\n",
    "    num_cols = X_temp.select_dtypes(include=['int64', 'float64']).columns.tolist()\n",
    "\n",
    "    if outlier_flag:\n",
    "        df_completo = X_temp.copy()\n",
    "        df_completo[\"target\"] = y_temp\n",
    "        df_sem_outliers = remover_outliers(df_completo, num_cols)\n",
    "        X_temp = df_sem_outliers.drop(columns=\"target\")\n",
    "        y_temp = df_sem_outliers[\"target\"]\n",
    "\n",
    "    if X_temp.shape[0] < 2:\n",
    "        continue\n",
    "\n",
    "    preprocessador = ColumnTransformer([\n",
    "        (\"scale\", norm, num_cols)\n",
    "    ], remainder='passthrough')\n",
    "\n",
    "    X_train, X_test, y_train, y_test = train_test_split(X_temp, y_temp, test_size=0.3, random_state=i+200)\n",
    "\n",
    "    modelo = Pipeline([\n",
    "        (\"prep\", preprocessador),\n",
    "        (\"clf\", XGBRegressor(learning_rate=eta, max_depth=depth, random_state=42))\n",
    "    ])\n",
    "    modelo.fit(X_train, y_train)\n",
    "    y_pred = modelo.predict(X_test)\n",
    "\n",
    "    mse = mean_squared_error(y_test, y_pred)\n",
    "    mae = mean_absolute_error(y_test, y_pred)\n",
    "    r2 = r2_score(y_test, y_pred)\n",
    "\n",
    "    resultados_xgbr.append([\n",
    "        i + 1,\n",
    "        'X' if classe == '2 classificações' else '',\n",
    "        'X' if classe == '3 classificações' else '',\n",
    "        eta,\n",
    "        depth,\n",
    "        'X' if val == 'k=3' else '',\n",
    "        'X' if val == 'k=10' else '',\n",
    "        'X' if outlier_flag else '',\n",
    "        type(norm).__name__.replace('Scaler', ''),\n",
    "        mse, mae, r2\n",
    "    ])"
   ]
  },
  {
   "cell_type": "markdown",
   "id": "a6ebed46",
   "metadata": {},
   "source": [
    "### 7. Dataframe com Resultados"
   ]
  },
  {
   "cell_type": "code",
   "execution_count": null,
   "id": "02545a17",
   "metadata": {},
   "outputs": [],
   "source": [
    "df_rfr = pd.DataFrame(resultados_rfr, columns=[\n",
    "    'Cenário', '2 classificações', '3 classificações', 'Critério',\n",
    "    'Nº Árvores', 'Validação k=3', 'Validação k=10',\n",
    "    'Remoção de Outliers', 'Normalização',\n",
    "    'MSE', 'MAE', 'R²'\n",
    "])\n",
    "\n",
    "df_xgbr = pd.DataFrame(resultados_xgbr, columns=[\n",
    "    'Cenário', '2 classificações', '3 classificações', 'Taxa de Aprendizado',\n",
    "    'Profundidade', 'Validação k=3', 'Validação k=10',\n",
    "    'Remoção de Outliers', 'Normalização',\n",
    "    'MSE', 'MAE', 'R²'\n",
    "])"
   ]
  },
  {
   "cell_type": "markdown",
   "id": "234dad1b",
   "metadata": {},
   "source": [
    "### 7. Formatação do Dataframe"
   ]
  },
  {
   "cell_type": "code",
   "execution_count": null,
   "id": "37cd2397",
   "metadata": {},
   "outputs": [],
   "source": [
    "# XGBoost\n",
    "df_xgbr['Taxa 0.1'] = df_xgbr['Taxa de Aprendizado'].apply(lambda x: 'X' if x == 0.1 else '')\n",
    "df_xgbr['Taxa 0.3'] = df_xgbr['Taxa de Aprendizado'].apply(lambda x: 'X' if x == 0.3 else '')\n",
    "df_xgbr['Profundidade 3'] = df_xgbr['Profundidade'].apply(lambda x: 'X' if x == 3 else '')\n",
    "df_xgbr['Profundidade 5'] = df_xgbr['Profundidade'].apply(lambda x: 'X' if x == 5 else '')\n",
    "df_xgbr['Standard'] = df_xgbr['Normalização'].apply(lambda x: 'X' if x == 'Standard' else '')\n",
    "df_xgbr['MinMax'] = df_xgbr['Normalização'].apply(lambda x: 'X' if x == 'MinMax' else '')\n",
    "df_xgbr['Robust'] = df_xgbr['Normalização'].apply(lambda x: 'X' if x == 'Robust' else '')\n",
    "\n",
    "# Random Forest\n",
    "df_rfr['Standard'] = df_rfr['Normalização'].apply(lambda x: 'X' if x == 'Standard' else '')\n",
    "df_rfr['MinMax'] = df_rfr['Normalização'].apply(lambda x: 'X' if x == 'MinMax' else '')\n",
    "df_rfr['Robust'] = df_rfr['Normalização'].apply(lambda x: 'X' if x == 'Robust' else '')"
   ]
  },
  {
   "cell_type": "markdown",
   "id": "19d6b743",
   "metadata": {},
   "source": [
    "### 8. Dataframes finais"
   ]
  },
  {
   "cell_type": "code",
   "execution_count": null,
   "id": "c30a735d",
   "metadata": {},
   "outputs": [
    {
     "ename": "TypeError",
     "evalue": "list indices must be integers or slices, not list",
     "output_type": "error",
     "traceback": [
      "\u001b[1;31m---------------------------------------------------------------------------\u001b[0m",
      "\u001b[1;31mTypeError\u001b[0m                                 Traceback (most recent call last)",
      "Cell \u001b[1;32mIn[128], line 12\u001b[0m\n\u001b[0;32m      2\u001b[0m df_rfr \u001b[38;5;241m=\u001b[39m df_rfr[[\n\u001b[0;32m      3\u001b[0m     \u001b[38;5;124m'\u001b[39m\u001b[38;5;124mCenário\u001b[39m\u001b[38;5;124m'\u001b[39m, \u001b[38;5;124m'\u001b[39m\u001b[38;5;124m2 classificações\u001b[39m\u001b[38;5;124m'\u001b[39m, \u001b[38;5;124m'\u001b[39m\u001b[38;5;124m3 classificações\u001b[39m\u001b[38;5;124m'\u001b[39m, \n\u001b[0;32m      4\u001b[0m     \u001b[38;5;124m'\u001b[39m\u001b[38;5;124mStandard\u001b[39m\u001b[38;5;124m'\u001b[39m, \u001b[38;5;124m'\u001b[39m\u001b[38;5;124mMinMax\u001b[39m\u001b[38;5;124m'\u001b[39m, \u001b[38;5;124m'\u001b[39m\u001b[38;5;124mRobust\u001b[39m\u001b[38;5;124m'\u001b[39m,\n\u001b[1;32m   (...)\u001b[0m\n\u001b[0;32m      8\u001b[0m     \u001b[38;5;124m'\u001b[39m\u001b[38;5;124mMSE\u001b[39m\u001b[38;5;124m'\u001b[39m, \u001b[38;5;124m'\u001b[39m\u001b[38;5;124mMAE\u001b[39m\u001b[38;5;124m'\u001b[39m, \u001b[38;5;124m'\u001b[39m\u001b[38;5;124mR²\u001b[39m\u001b[38;5;124m'\u001b[39m\n\u001b[0;32m      9\u001b[0m ]]\n\u001b[0;32m     11\u001b[0m \u001b[38;5;66;03m# XGBoost\u001b[39;00m\n\u001b[1;32m---> 12\u001b[0m df_xgbr \u001b[38;5;241m=\u001b[39m \u001b[43mdf_xgbr\u001b[49m\u001b[43m[\u001b[49m\u001b[43m[\u001b[49m\n\u001b[0;32m     13\u001b[0m \u001b[43m    \u001b[49m\u001b[38;5;124;43m'\u001b[39;49m\u001b[38;5;124;43mCenário\u001b[39;49m\u001b[38;5;124;43m'\u001b[39;49m\u001b[43m,\u001b[49m\u001b[43m \u001b[49m\u001b[38;5;124;43m'\u001b[39;49m\u001b[38;5;124;43m2 classificações\u001b[39;49m\u001b[38;5;124;43m'\u001b[39;49m\u001b[43m,\u001b[49m\u001b[43m \u001b[49m\u001b[38;5;124;43m'\u001b[39;49m\u001b[38;5;124;43m3 classificações\u001b[39;49m\u001b[38;5;124;43m'\u001b[39;49m\u001b[43m,\u001b[49m\u001b[43m \u001b[49m\n\u001b[0;32m     14\u001b[0m \u001b[43m    \u001b[49m\u001b[38;5;124;43m'\u001b[39;49m\u001b[38;5;124;43mRemoção de Outliers\u001b[39;49m\u001b[38;5;124;43m'\u001b[39;49m\u001b[43m,\u001b[49m\u001b[43m \u001b[49m\n\u001b[0;32m     15\u001b[0m \u001b[43m    \u001b[49m\u001b[38;5;124;43m'\u001b[39;49m\u001b[38;5;124;43mStandard\u001b[39;49m\u001b[38;5;124;43m'\u001b[39;49m\u001b[43m,\u001b[49m\u001b[43m \u001b[49m\u001b[38;5;124;43m'\u001b[39;49m\u001b[38;5;124;43mMinMax\u001b[39;49m\u001b[38;5;124;43m'\u001b[39;49m\u001b[43m,\u001b[49m\u001b[43m \u001b[49m\u001b[38;5;124;43m'\u001b[39;49m\u001b[38;5;124;43mRobust\u001b[39;49m\u001b[38;5;124;43m'\u001b[39;49m\n\u001b[0;32m     16\u001b[0m \u001b[43m    \u001b[49m\u001b[38;5;124;43m'\u001b[39;49m\u001b[38;5;124;43mTaxa 0.1\u001b[39;49m\u001b[38;5;124;43m'\u001b[39;49m\u001b[43m,\u001b[49m\u001b[43m \u001b[49m\u001b[38;5;124;43m'\u001b[39;49m\u001b[38;5;124;43mTaxa 0.3\u001b[39;49m\u001b[38;5;124;43m'\u001b[39;49m\u001b[43m,\u001b[49m\u001b[43m \u001b[49m\n\u001b[0;32m     17\u001b[0m \u001b[43m    \u001b[49m\u001b[38;5;124;43m'\u001b[39;49m\u001b[38;5;124;43mProfundidade 3\u001b[39;49m\u001b[38;5;124;43m'\u001b[39;49m\u001b[43m,\u001b[49m\u001b[43m \u001b[49m\u001b[38;5;124;43m'\u001b[39;49m\u001b[38;5;124;43mProfundidade 5\u001b[39;49m\u001b[38;5;124;43m'\u001b[39;49m\u001b[43m,\u001b[49m\n\u001b[0;32m     18\u001b[0m \u001b[43m    \u001b[49m\u001b[38;5;124;43m'\u001b[39;49m\u001b[38;5;124;43mValidação k=3\u001b[39;49m\u001b[38;5;124;43m'\u001b[39;49m\u001b[43m,\u001b[49m\u001b[43m \u001b[49m\u001b[38;5;124;43m'\u001b[39;49m\u001b[38;5;124;43mValidação k=10\u001b[39;49m\u001b[38;5;124;43m'\u001b[39;49m\u001b[43m,\u001b[49m\n\u001b[0;32m     19\u001b[0m \u001b[43m    \u001b[49m\u001b[38;5;124;43m'\u001b[39;49m\u001b[38;5;124;43mMSE\u001b[39;49m\u001b[38;5;124;43m'\u001b[39;49m\u001b[43m,\u001b[49m\u001b[43m \u001b[49m\u001b[38;5;124;43m'\u001b[39;49m\u001b[38;5;124;43mMAE\u001b[39;49m\u001b[38;5;124;43m'\u001b[39;49m\u001b[43m,\u001b[49m\u001b[43m \u001b[49m\u001b[38;5;124;43m'\u001b[39;49m\u001b[38;5;124;43mR²\u001b[39;49m\u001b[38;5;124;43m'\u001b[39;49m\n\u001b[0;32m     20\u001b[0m \u001b[43m]\u001b[49m\u001b[43m]\u001b[49m\n",
      "\u001b[1;31mTypeError\u001b[0m: list indices must be integers or slices, not list"
     ]
    }
   ],
   "source": [
    "# Random Forest\n",
    "df_rfr = df_rfr[[\n",
    "    'Cenário', '2 classificações', '3 classificações', \n",
    "    'Standard', 'MinMax', 'Robust',\n",
    "    'Critério',\n",
    "    'Nº Árvores', 'Validação k=3', 'Validação k=10',\n",
    "    'Remoção de Outliers',\n",
    "    'MSE', 'MAE', 'R²'\n",
    "]]\n",
    "\n",
    "# XGBoost\n",
    "df_xgbr = df_xgbr[[\n",
    "    'Cenário', '2 classificações', '3 classificações', \n",
    "    'Remoção de Outliers', \n",
    "    'Standard', 'MinMax', 'Robust'\n",
    "    'Taxa 0.1', 'Taxa 0.3', \n",
    "    'Profundidade 3', 'Profundidade 5',\n",
    "    'Validação k=3', 'Validação k=10',\n",
    "    'MSE', 'MAE', 'R²'\n",
    "]]"
   ]
  },
  {
   "cell_type": "markdown",
   "id": "6baa419e",
   "metadata": {},
   "source": [
    "### 6. Exportação"
   ]
  },
  {
   "cell_type": "code",
   "execution_count": null,
   "id": "577e8b8f",
   "metadata": {},
   "outputs": [
    {
     "ename": "AttributeError",
     "evalue": "'list' object has no attribute 'to_excel'",
     "output_type": "error",
     "traceback": [
      "\u001b[1;31m---------------------------------------------------------------------------\u001b[0m",
      "\u001b[1;31mAttributeError\u001b[0m                            Traceback (most recent call last)",
      "Cell \u001b[1;32mIn[127], line 3\u001b[0m\n\u001b[0;32m      1\u001b[0m \u001b[38;5;28;01mwith\u001b[39;00m pd\u001b[38;5;241m.\u001b[39mExcelWriter(\u001b[38;5;124m'\u001b[39m\u001b[38;5;124m../../../data/plano-de-experimentacao/plano_de_experimentacao.xlsx\u001b[39m\u001b[38;5;124m'\u001b[39m, engine\u001b[38;5;241m=\u001b[39m\u001b[38;5;124m'\u001b[39m\u001b[38;5;124mxlsxwriter\u001b[39m\u001b[38;5;124m'\u001b[39m) \u001b[38;5;28;01mas\u001b[39;00m writer:\n\u001b[0;32m      2\u001b[0m     df_rfr\u001b[38;5;241m.\u001b[39mto_excel(writer, sheet_name\u001b[38;5;241m=\u001b[39m\u001b[38;5;124m'\u001b[39m\u001b[38;5;124mRandom Forest Regressor\u001b[39m\u001b[38;5;124m'\u001b[39m, index\u001b[38;5;241m=\u001b[39m\u001b[38;5;28;01mFalse\u001b[39;00m)\n\u001b[1;32m----> 3\u001b[0m     \u001b[43mdf_xgbr\u001b[49m\u001b[38;5;241;43m.\u001b[39;49m\u001b[43mto_excel\u001b[49m(writer, sheet_name\u001b[38;5;241m=\u001b[39m\u001b[38;5;124m'\u001b[39m\u001b[38;5;124mXGBoost Regressor\u001b[39m\u001b[38;5;124m'\u001b[39m, index\u001b[38;5;241m=\u001b[39m\u001b[38;5;28;01mFalse\u001b[39;00m)\n\u001b[0;32m      5\u001b[0m \u001b[38;5;28mprint\u001b[39m(\u001b[38;5;124m\"\u001b[39m\u001b[38;5;124mExcel gerado com sucesso!\u001b[39m\u001b[38;5;124m\"\u001b[39m)\n",
      "\u001b[1;31mAttributeError\u001b[0m: 'list' object has no attribute 'to_excel'"
     ]
    }
   ],
   "source": [
    "with pd.ExcelWriter('../../../data/plano-de-experimentacao/plano_de_experimentacao.xlsx', engine='xlsxwriter') as writer:\n",
    "    df_rfr.to_excel(writer, sheet_name='Random Forest Regressor', index=False)\n",
    "    df_xgbr.to_excel(writer, sheet_name='XGBoost Regressor', index=False)\n",
    "\n",
    "print(\"Excel gerado com sucesso!\")"
   ]
  }
 ],
 "metadata": {
  "kernelspec": {
   "display_name": "Python 3",
   "language": "python",
   "name": "python3"
  },
  "language_info": {
   "codemirror_mode": {
    "name": "ipython",
    "version": 3
   },
   "file_extension": ".py",
   "mimetype": "text/x-python",
   "name": "python",
   "nbconvert_exporter": "python",
   "pygments_lexer": "ipython3",
   "version": "3.11.5"
  }
 },
 "nbformat": 4,
 "nbformat_minor": 5
}
